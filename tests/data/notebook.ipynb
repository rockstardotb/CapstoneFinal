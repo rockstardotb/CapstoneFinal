{
  "cells": [
    {
      "metadata": {
        "trusted": true
      },
      "cell_type": "code",
      "source": "x=999\nprint(x)",
      "execution_count": null,
      "outputs": []
    }
  ],
  "metadata":{
    "kernelspec":{"language":"python","display_name":"Python 3","name":"python3"},
    "language_info":{
       "codemirror_mode":{
          "name":"ipython",
          "version":3
       },
       "file_extension":".py",
       "mimetype":"text/x-python",
       "name":"python",
       "nbconvert_exporter":"python",
       "pygments_lexer":"ipython3",
       "version":"3.7.6"
    }
  },
  "nbformat":4,
  "nbformat_minor":4
}
